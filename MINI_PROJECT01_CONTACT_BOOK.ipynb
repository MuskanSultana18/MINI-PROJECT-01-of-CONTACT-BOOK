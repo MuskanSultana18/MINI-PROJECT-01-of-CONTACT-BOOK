{
  "cells": [
    {
      "cell_type": "markdown",
      "metadata": {
        "id": "view-in-github",
        "colab_type": "text"
      },
      "source": [
        "<a href=\"https://colab.research.google.com/github/MuskanSultana18/MINI-PROJECT-01-of-CONTACT-BOOK/blob/main/MINI_PROJECT01_CONTACT_BOOK.ipynb\" target=\"_parent\"><img src=\"https://colab.research.google.com/assets/colab-badge.svg\" alt=\"Open In Colab\"/></a>"
      ]
    },
    {
      "cell_type": "code",
      "execution_count": null,
      "metadata": {
        "colab": {
          "base_uri": "https://localhost:8080/"
        },
        "id": "SLd902sG2st9",
        "outputId": "ecd43651-08fb-42a0-d2e8-a49676749e07"
      },
      "outputs": [
        {
          "metadata": {
            "tags": null
          },
          "name": "stdout",
          "output_type": "stream",
          "text": [
            "for.CYAN\n"
          ]
        }
      ],
      "source": [
        "import json\n",
        "import csv\n",
        "\n",
        "\n",
        "contacts = {} #creating dictionary\n",
        "\n",
        "\n",
        "attempts = 0 #creating password\n",
        "password = \"admin2029\"\n",
        "\n",
        "while attempts < 3:\n",
        "  user_input = input(\"ENTER PASSWORD\")\n",
        "  if user_input == password:\n",
        "    print(\"ACCESS GRANTED!\")\n",
        "    break\n",
        "  print(\"ACCESS DENIED!\")\n",
        "  attempts += 1\n",
        "\n",
        "while True: #loop will constantly go\n",
        "\n",
        "    print('\\nContact Book App')\n",
        "    print('1. Create a new contact')\n",
        "    print('2. View contact')\n",
        "    print('3. Update contact')\n",
        "    print('4. Delete contact')\n",
        "    print('5. Search contact')\n",
        "    print('6. All contacts')\n",
        "    print('7. Exit')\n",
        "\n",
        "    choice = input('Enter your choice: ')\n",
        "\n",
        "#for creating contacts\n",
        "    if choice == '1':\n",
        "        name = input('Enter name: ')\n",
        "        if name in contacts:\n",
        "            print(f'CONTACT ALREADY EXISTS!')\n",
        "        else:\n",
        "            age = input('Enter AGE: ')\n",
        "            email = input('Enter EMAIL: ')\n",
        "            mobile= input('Enter MOBILE: ')\n",
        "            contacts[name] = {'age': age, 'email': email, 'mobile': mobile}\n",
        "            print(f'CONTACT CREATED SUCCESSFULLY!')\n",
        "\n",
        "   #for viewing contact\n",
        "    elif choice == '2':\n",
        "        name = input('Enter contact name to view:')\n",
        "        if name in contacts:\n",
        "            contact = contacts[name]\n",
        "            print(f'Name: {name}, Age: {contact[\"age\"]}, Email: {contact[\"email\"]}, Mobile: {contact[\"mobile\"]}')\n",
        "        else:\n",
        "            print('Contact not found')\n",
        "\n",
        "   #for updating\n",
        "    elif choice == '3':\n",
        "        name = input('Enter contact name to update: ')\n",
        "        if name in contacts:\n",
        "            print('Enter new details:')\n",
        "            age = input('Enter updated AGE:' )\n",
        "            email = input('Enter updated EMAIL: ')\n",
        "            mobile = input('Enter updated MOBILE: ')\n",
        "\n",
        "            contacts[name] = {'age': age, 'email': email, 'mobile': mobile}\n",
        "            print(f'Contact \"{name}\" updated successfully!')\n",
        "        else:\n",
        "            print('Contact not found!')\n",
        "\n",
        "   #for deleting\n",
        "    elif choice == '4':\n",
        "        name = input('Enter contact name to delete: ')\n",
        "        if name in contacts:\n",
        "            del contacts[name]\n",
        "            print('Contact \"{name}\" deleted successfully!')\n",
        "        else:\n",
        "            print('Contact not found!')\n",
        "\n",
        "   #for searching\n",
        "    elif choice == '5':\n",
        "        search_term = input('Enter name to search: ')\n",
        "        found_contacts = {}\n",
        "        for name, contact_info in contacts.items():\n",
        "            if search_term.lower() in name.lower() or search_term in contact_info['mobile']:\n",
        "                found_contacts[name] = contact_info\n",
        "\n",
        "        if found_contacts:\n",
        "            print('Found Contacts:')\n",
        "            for name, contact_info in found_contacts.items():\n",
        "                print(f'Name: {name}, Age: {contact_info[\"age\"]}, Email: {contact_info[\"email\"]}, Mobile: {contact_info[\"mobile\"]}')\n",
        "        else:\n",
        "            print('No contacts found matching your search.')\n",
        "\n",
        "    elif choice == '6':\n",
        "        if contacts:\n",
        "            print('All Contacts:')\n",
        "            for name, contact_info in contacts.items():\n",
        "                 print(f'Name: {name}, Age: {contact_info[\"age\"]}, Email: {contact_info[\"email\"]}, Mobile: {contact_info[\"mobile\"]}')\n",
        "        else:\n",
        "            print('Contact book is empty.')\n",
        "\n",
        "    #for exits\n",
        "    elif choice == '7':\n",
        "        print('Exiting Contact Book App. Goodbye!')\n",
        "        break\n",
        "\n",
        "    else:\n",
        "        print('Invalid choice. Please try again.')"
      ]
    },
    {
      "cell_type": "code",
      "source": [],
      "metadata": {
        "id": "TxTW1NAIo7nL"
      },
      "execution_count": null,
      "outputs": []
    }
  ],
  "metadata": {
    "colab": {
      "provenance": [],
      "authorship_tag": "ABX9TyOKu87ShYdo5nWcWa4zPLlt",
      "include_colab_link": true
    },
    "kernelspec": {
      "display_name": "Python 3",
      "name": "python3"
    },
    "language_info": {
      "name": "python"
    }
  },
  "nbformat": 4,
  "nbformat_minor": 0
}